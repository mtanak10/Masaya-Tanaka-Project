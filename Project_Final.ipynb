{
 "cells": [
  {
   "cell_type": "markdown",
   "id": "098ca059-463d-4e2d-90fe-5a98a1b4cf05",
   "metadata": {},
   "source": [
    "# Introduction\n",
    "\n",
    "Heart disease is such a common disease that it could cause many problems. Early prediction is the key to preventing it from killing people. Thinking of a way to predict the disease is one of the most important things we should be doing. A dataset from UCI has summarized the 13 important attributes that could be used for predicting heart diseases in four locations: Switzerland, Hungary, Va Long Beach, and Cleveland. It also shows what the heart conditions it has out of 4 severity. \n",
    "\n",
    "https://archive.ics.uci.edu/dataset/45/heart+disease\n",
    "\n",
    "The following information will be used for the answer:\n",
    "\n",
    "## Predictive Question: To what extent do age, cholesterol level, Resting Blood Pressure, and Maximum Heart Rate help us create a predictive classifer for the diagnosis of heart rate? \n",
    "\n",
    "The intention of this question is to see if these relatively easily accessible data could predict the presence of heart disease. This would be helpful for people to know; thus, if this parameter do form a good classifier, it would help a lot of people and regions in the world.There are regions in the world that do not have access to high-quality data. Thus, it would be helpful to have a classifier that only uses easy access variables. \n",
    "\n",
    "## 13 key attributes\n",
    "- Age: Age of the patient (years).\n",
    "- Sex: Gender (1 = male, 0 = female).\n",
    "- CP (Chest Pain Type)\n",
    "- Trestbps (Resting Blood Pressure): Resting blood pressure (mm Hg) \n",
    "- Chol (Serum Cholesterol): Serum cholesterol level (mg/dl).\n",
    "- Fbs (Fasting Blood Sugar > 120 mg/dl):  (1 = true, 0 = false).\n",
    "- Restecg (Resting Electrocardiographic Results): Results of the resting electrocardiogram \n",
    "- Exang (Exercise-Induced Angina): Whether exercise-induced angina\n",
    "- Oldpeak (ST Depression Induced by Exercise): ST depression induced by exercise relative to rest.\n",
    "- Slope (Slope of the Peak Exercise ST Segment): Slope of the peak exercise ST segment\n",
    "- Ca (Number of Major Vessels Colored by Fluoroscopy): Number of major vessels (0-3) colored by fluoroscopy.\n",
    "- Thal: Thalassemia \n",
    "- Num: Diagnosis of heart disease (0 = no disease, 1-4 = presence of disease with increasing severity).\n",
    "\n",
    "\n",
    "\n",
    "\n"
   ]
  },
  {
   "cell_type": "markdown",
   "id": "3df21918-5e9e-4a62-821e-eb96e34b5655",
   "metadata": {},
   "source": [
    "## Expectation\n",
    "We would not have the best result as the data used is easily accessible and has smaller details than some. However, some factors, such as cholesterol and heart rate, are known to be very important. Thus, we could expect the model to have a relevant accuracy of around 70%. \n",
    "It is predicted that age is a significant variable in determining whether a patient has heart disease or not. As age increases, the heart rate also increases. \n",
    "For cholesterol and blood pressure, we expect them to have a positive correlation with age. As age increases, the number of heart diseases increases. Moreover, I expect maximum heart rate to have a negative correlation in relation to age and heart disease to increase as age increases. "
   ]
  },
  {
   "cell_type": "code",
   "execution_count": null,
   "id": "a35d3d32-b05b-494a-8dd6-a64ff19bab81",
   "metadata": {
    "vscode": {
     "languageId": "r"
    }
   },
   "outputs": [
    {
     "name": "stderr",
     "output_type": "stream",
     "text": [
      "Updating HTML index of packages in '.Library'\n",
      "\n",
      "Making 'packages.html' ...\n",
      " done\n",
      "\n",
      "── \u001b[1mAttaching core tidyverse packages\u001b[22m ──────────────────────── tidyverse 2.0.0 ──\n",
      "\u001b[32m✔\u001b[39m \u001b[34mdplyr    \u001b[39m 1.1.3     \u001b[32m✔\u001b[39m \u001b[34mreadr    \u001b[39m 2.1.4\n",
      "\u001b[32m✔\u001b[39m \u001b[34mforcats  \u001b[39m 1.0.0     \u001b[32m✔\u001b[39m \u001b[34mstringr  \u001b[39m 1.5.0\n",
      "\u001b[32m✔\u001b[39m \u001b[34mlubridate\u001b[39m 1.9.2     \u001b[32m✔\u001b[39m \u001b[34mtibble   \u001b[39m 3.2.1\n",
      "\u001b[32m✔\u001b[39m \u001b[34mpurrr    \u001b[39m 1.0.2     \u001b[32m✔\u001b[39m \u001b[34mtidyr    \u001b[39m 1.3.0\n",
      "── \u001b[1mConflicts\u001b[22m ────────────────────────────────────────── tidyverse_conflicts() ──\n",
      "\u001b[31m✖\u001b[39m \u001b[34mdplyr\u001b[39m::\u001b[32mfilter()\u001b[39m masks \u001b[34mstats\u001b[39m::filter()\n",
      "\u001b[31m✖\u001b[39m \u001b[34mdplyr\u001b[39m::\u001b[32mlag()\u001b[39m    masks \u001b[34mstats\u001b[39m::lag()\n",
      "\u001b[36mℹ\u001b[39m Use the conflicted package (\u001b[3m\u001b[34m<http://conflicted.r-lib.org/>\u001b[39m\u001b[23m) to force all conflicts to become errors\n",
      "── \u001b[1mAttaching packages\u001b[22m ────────────────────────────────────── tidymodels 1.1.1 ──\n",
      "\n",
      "\u001b[32m✔\u001b[39m \u001b[34mbroom       \u001b[39m 1.0.5     \u001b[32m✔\u001b[39m \u001b[34mrsample     \u001b[39m 1.2.0\n",
      "\u001b[32m✔\u001b[39m \u001b[34mdials       \u001b[39m 1.2.0     \u001b[32m✔\u001b[39m \u001b[34mtune        \u001b[39m 1.1.2\n",
      "\u001b[32m✔\u001b[39m \u001b[34minfer       \u001b[39m 1.0.5     \u001b[32m✔\u001b[39m \u001b[34mworkflows   \u001b[39m 1.1.3\n",
      "\u001b[32m✔\u001b[39m \u001b[34mmodeldata   \u001b[39m 1.2.0     \u001b[32m✔\u001b[39m \u001b[34mworkflowsets\u001b[39m 1.0.1\n",
      "\u001b[32m✔\u001b[39m \u001b[34mparsnip     \u001b[39m 1.1.1     \u001b[32m✔\u001b[39m \u001b[34myardstick   \u001b[39m 1.2.0\n",
      "\u001b[32m✔\u001b[39m \u001b[34mrecipes     \u001b[39m 1.0.8     \n",
      "\n",
      "── \u001b[1mConflicts\u001b[22m ───────────────────────────────────────── tidymodels_conflicts() ──\n",
      "\u001b[31m✖\u001b[39m \u001b[34mscales\u001b[39m::\u001b[32mdiscard()\u001b[39m masks \u001b[34mpurrr\u001b[39m::discard()\n",
      "\u001b[31m✖\u001b[39m \u001b[34mdplyr\u001b[39m::\u001b[32mfilter()\u001b[39m   masks \u001b[34mstats\u001b[39m::filter()\n",
      "\u001b[31m✖\u001b[39m \u001b[34mrecipes\u001b[39m::\u001b[32mfixed()\u001b[39m  masks \u001b[34mstringr\u001b[39m::fixed()\n",
      "\u001b[31m✖\u001b[39m \u001b[34mdplyr\u001b[39m::\u001b[32mlag()\u001b[39m      masks \u001b[34mstats\u001b[39m::lag()\n",
      "\u001b[31m✖\u001b[39m \u001b[34myardstick\u001b[39m::\u001b[32mspec()\u001b[39m masks \u001b[34mreadr\u001b[39m::spec()\n",
      "\u001b[31m✖\u001b[39m \u001b[34mrecipes\u001b[39m::\u001b[32mstep()\u001b[39m   masks \u001b[34mstats\u001b[39m::step()\n",
      "\u001b[34m•\u001b[39m Search for functions across packages at \u001b[32mhttps://www.tidymodels.org/find/\u001b[39m\n",
      "\n"
     ]
    }
   ],
   "source": [
    "install.packages(\"ggplot2\")  # Install ggplot2 package\n",
    "library(ggplot2)      \n",
    "\n",
    "library(tidyverse)\n",
    "library(repr)\n",
    "library(tidymodels)\n",
    "library(dplyr)\n",
    "options(repr.matrix.max.rows = 6)\n",
    "install.packages(\"ggplot2\")\n",
    "install.packages(\"patchwork\")\n",
    "library(ggplot2)\n",
    "library(patchwork)\n",
    "library(knitr)"
   ]
  },
  {
   "cell_type": "markdown",
   "id": "fa094bd1-152d-4a8e-a276-6793137aa506",
   "metadata": {},
   "source": [
    "## Reading Data\n",
    "we would read the data using read_csv"
   ]
  },
  {
   "cell_type": "code",
   "execution_count": null,
   "id": "276c4afe-73a0-4eeb-8849-e437d15edee4",
   "metadata": {
    "vscode": {
     "languageId": "r"
    }
   },
   "outputs": [],
   "source": [
    "\n",
    "cleveland <- read_csv(\"data/heart_disease/processed.cleveland.data\",\n",
    "                      col_names = c(\"age\", \"sex\", \"cp\", \"tresbps\", \"chol\", \"fbs\", \"restcg\", \"thalach\", \"exang\", \"oldpeak\", \"slope\", \"ca\", \"thal\", \"num\")) |>\n",
    "                       mutate(num = as_factor(num))\n"
   ]
  },
  {
   "cell_type": "code",
   "execution_count": null,
   "id": "4ef5f033-5823-4096-bb84-1339c794caf8",
   "metadata": {
    "vscode": {
     "languageId": "r"
    }
   },
   "outputs": [],
   "source": [
    "cleveland"
   ]
  },
  {
   "cell_type": "markdown",
   "id": "d8d48a0e-fd72-47ed-b696-cb493838b53d",
   "metadata": {},
   "source": [
    "Table 1"
   ]
  },
  {
   "cell_type": "markdown",
   "id": "50b2e74a-8426-4e22-8baa-548bedadef65",
   "metadata": {},
   "source": [
    "## Wrangling and Tidying the Data\n",
    "I will be using the select() to only select age, tresbps, chol, thalach\n",
    " Since we only want to know if the patient has a heart disease or not, I created a new column that does this. This was done through using fct_recode(). 0 was Turned into a no and 1,2,3, and, 4 were turned into a yes. <br>\n",
    " YES: Heart Disease Present <br>\n",
    " NO: Heart disease not present"
   ]
  },
  {
   "cell_type": "code",
   "execution_count": null,
   "id": "9d00c83d-f0c2-4ef3-9b59-393d5cdb94f0",
   "metadata": {
    "vscode": {
     "languageId": "r"
    }
   },
   "outputs": [],
   "source": [
    "heart_disease_selected <- mutate(cleveland, diagnosis = fct_recode(num, \"No\" = \"0\" , \"Yes\" = \"1\", \"Yes\" = \"2\", \"Yes\" = \"3\", \"Yes\" = \"4\")) |>\n",
    "         select( age, tresbps, chol, thalach, diagnosis)\n",
    "                        \n",
    "heart_disease_selected"
   ]
  },
  {
   "cell_type": "markdown",
   "id": "1b97caf8-d5c8-41c1-9065-d4326bdf9843",
   "metadata": {},
   "source": [
    "Table 2"
   ]
  },
  {
   "cell_type": "markdown",
   "id": "58a949c0-8911-490b-8103-c0b44865c2bd",
   "metadata": {},
   "source": [
    "## Balance of Data\n",
    "now we will check if the data is balanced for each classes."
   ]
  },
  {
   "cell_type": "code",
   "execution_count": null,
   "id": "b3d5fbad-47b7-426b-b6dc-76dac19d806b",
   "metadata": {
    "vscode": {
     "languageId": "r"
    }
   },
   "outputs": [],
   "source": [
    "heart_disease_selected |>\n",
    "  group_by(diagnosis) |>\n",
    "  summarize(\n",
    "    count = n(),\n",
    "    percentage = n() / 303 * 100\n",
    "  )\n"
   ]
  },
  {
   "cell_type": "markdown",
   "id": "ff109ef0-cae0-4e36-aaf3-d3af50ed71b0",
   "metadata": {},
   "source": [
    "Table 3"
   ]
  },
  {
   "cell_type": "markdown",
   "id": "c84c1f7b-3317-42a7-91a2-db63cd8b8531",
   "metadata": {},
   "source": [
    "This Table shows the that the data is balanced as it has almost equal amount of yes and no diagnosed data. "
   ]
  },
  {
   "cell_type": "markdown",
   "id": "a9a1b0e8-32c2-4385-9a0b-7af72afab3d1",
   "metadata": {},
   "source": [
    "### Splitting Data\n",
    "I will be splitting the data into training data and testing data. I have split the data into two parts. 75% into training and 25% into testing for KNN classification"
   ]
  },
  {
   "cell_type": "code",
   "execution_count": null,
   "id": "4b7e1fdc-3922-4dfa-bed4-96680f0cf24d",
   "metadata": {
    "vscode": {
     "languageId": "r"
    }
   },
   "outputs": [],
   "source": [
    "set.seed(1)\n",
    "heart_disease_split <- initial_split(heart_disease_selected, prop = 0.75, strata = diagnosis)\n",
    "heart_disease_train <- training(heart_disease_split)\n",
    "heart_disease_test <- testing(heart_disease_split)\n",
    "\n",
    "heart_disease_train"
   ]
  },
  {
   "cell_type": "markdown",
   "id": "2e46b342-3284-4e54-9e2c-f554d05399ad",
   "metadata": {},
   "source": [
    "Table 4"
   ]
  },
  {
   "cell_type": "markdown",
   "id": "f16d76a3-8222-49d2-ac5a-097ef149a923",
   "metadata": {},
   "source": [
    "## Visualization"
   ]
  },
  {
   "cell_type": "markdown",
   "id": "73ef3f93-99a2-4733-a306-23f67b3c3dbe",
   "metadata": {},
   "source": [
    "Using the training data, we will investigate the relationship between age and Cholesterol level, Maximum Heart Rate, and Resting Blood Pressure.\n",
    "Using a Scapper plot to see if there are correlation between each variable and if the presence of the heart disease is affected by each variable or not. \n"
   ]
  },
  {
   "cell_type": "code",
   "execution_count": null,
   "id": "f3265553-79fa-4aa5-966a-975d8f01f13e",
   "metadata": {
    "vscode": {
     "languageId": "r"
    }
   },
   "outputs": [],
   "source": [
    "hd_age_bp <- select(heart_disease_train, age, tresbps, diagnosis)\n",
    "hd_age_bp \n",
    "\n"
   ]
  },
  {
   "cell_type": "markdown",
   "id": "77d81ee7-952e-4ece-b67f-f42816bc9303",
   "metadata": {},
   "source": [
    "Table 5"
   ]
  },
  {
   "cell_type": "code",
   "execution_count": null,
   "id": "14bbc244-ca94-4c13-bf3e-3c9ffa262016",
   "metadata": {
    "vscode": {
     "languageId": "r"
    }
   },
   "outputs": [],
   "source": [
    "age_chol_plot <- ggplot(heart_disease_train, aes(x = age, y = chol)) +\n",
    "                    geom_point(aes(color = diagnosis, shape = diagnosis, alpha = 0.2)) +\n",
    "                    labs(x = \"Age\", y = \"Cholesterol (mg/dl)\", color = \"Diagnosis of Heart disease\", shape = \"Diagnosis of Heart disease\", caption = \"Figure 1\") +\n",
    "                    ggtitle(\"Age vs Cholesterol Scatterplot\")\n",
    "\n",
    "age_chol_plot"
   ]
  },
  {
   "cell_type": "code",
   "execution_count": null,
   "id": "080cb2e5-8bec-420b-bd87-a5581cf21e20",
   "metadata": {
    "vscode": {
     "languageId": "r"
    }
   },
   "outputs": [],
   "source": [
    "age_rate_plot <- ggplot(heart_disease_train, aes(x = age, y = thalach)) +\n",
    "                    geom_point(aes(color = diagnosis, shape = diagnosis, alpha = 0.2)) +\n",
    "                       labs(x = \"Age\", y= \"Maximum Heart Rate (bpm)\", colour = \"Heart Disease\", caption = \"Figure 2\") +       \n",
    "                       ggtitle(\"Age vs Maximum Heart Rate Scatterplot\")\n",
    "\n",
    "age_rate_plot"
   ]
  },
  {
   "cell_type": "code",
   "execution_count": null,
   "id": "4dcb8438-19ad-4ef6-9f2b-cf03dbae6653",
   "metadata": {
    "vscode": {
     "languageId": "r"
    }
   },
   "outputs": [],
   "source": [
    "age_bp_plot <- ggplot(heart_disease_train, aes(x = age, y = tresbps)) +\n",
    "                    geom_point(aes(color = diagnosis, shape = diagnosis, alpha = 0.2)) +\n",
    "                    labs(x = \"Age\", y = \"Resting Blood Pressure  (mm/Hg)\", color = \"Diagnosis of Heart disease\", shape = \"Diagnosis of Heart disease\", caption = \"Table 3\") +\n",
    "                    ggtitle(\"The Relationship between age and Resting Blood Pressure\")\n",
    "\n",
    "age_bp_plot"
   ]
  },
  {
   "cell_type": "markdown",
   "id": "84acc901-2802-4990-9468-930de16ce279",
   "metadata": {},
   "source": [
    "# Methods"
   ]
  },
  {
   "cell_type": "markdown",
   "id": "558f68d5-e335-4a8d-8453-e171385e2f0a",
   "metadata": {},
   "source": [
    "I will be using the knn(k nearest neighbor) classification method to make a classification model to answer my question: To what extent do age, cholesterol level, Resting Blood Pressure, and Maximum Heart Rate help us predict the diagnosis of heart rate? This would be done.\n",
    "\n",
    "These are the key attributes, and it could be predicted that if we use all of the variables presented above, it would be very helpful to use this. However, in this project, we would only focus on easily accessible information to see if this information could be used to predict heart diseases because some countries or regions do not have all the equipment to collect the complicated data. However, most of the regions would have machines to measure cholesterol levels and Resting Blood Pressure. \n",
    "\n",
    "This information would be the following:\n",
    "- Age\n",
    "- Chol (Cholesterol Levels)\n",
    "- Trestbps (Resting Blood Pressure)\n",
    "- Thalach (Maximum Heart Rate)\n",
    "\n",
    "\n",
    "These are the four factors used for the classification. \n",
    "\n",
    "The method would be to see multiple k values and tune the value to get the most k value here. After this, we would use this to see how accurate the model is with the factors I chose. I would be using the testing value as well. This would answer the maximum accuracy we could get from the factor used. We will also be using the confusion matrix to see what the model got wrong with. \n",
    "\n",
    "One way to visualize this is to plot a line graph for the k value on the x-axis and accuracy on the y-axis. \n",
    "We could also be plotting the predicted value scatter plot and the True value scatter plot for the test data to compare the accuracy as well. "
   ]
  },
  {
   "cell_type": "markdown",
   "id": "cbaca790-b09f-486d-8b55-794bcef6f983",
   "metadata": {},
   "source": [
    "## Training the classifier\n",
    "\n",
    "We made the recipe, scaled all of the variables, and found the best k values by graphing the k value and accuracy. We used 'initial_split' to create the training data and the testing data. 75% of the original data was split into the training data. We will use the training data called 'heart_disease_train' to train the classification model. \n",
    "\n",
    "We used the 'nearest_neighbor' function for the spec that we created, and the 'weight_func' was \"rectangular\" as we intend to calculate the distance for k number of points. We tune() the neighbors so that we would get the best k value with the highest accuracy used for cross-validation. The recipe will be created calle 'heart_recipe' and will be scaled and centered to make each parameter have the same weight.\n",
    "We use the 'vfold_cv()' function. I set v = 5 to use 5-fold cross-validation to split our overall training set into 5 parts. We also used 'tune_grid' to fit the model for each value in the range of parameter values. \n"
   ]
  },
  {
   "cell_type": "code",
   "execution_count": null,
   "id": "8d2ff651-4e69-4a2c-9db9-92e05a504bfd",
   "metadata": {
    "vscode": {
     "languageId": "r"
    }
   },
   "outputs": [],
   "source": [
    "set.seed(9999)\n",
    "\n",
    "knn_spec <- nearest_neighbor(weight_func = \"rectangular\", neighbors = tune()) |>\n",
    "\n",
    "set_engine(\"kknn\") |>\n",
    "    set_mode(\"classification\")\n",
    "\n",
    "heart_recipe <- recipe(diagnosis ~ age + tresbps + chol + thalach + diagnosis, data = heart_disease_train) |>\n",
    "    step_scale(all_predictors()) |>\n",
    "  step_center(all_predictors())\n",
    "\n",
    "heart_vfold <- vfold_cv(heart_disease_train, v = 5, strata = diagnosis)\n",
    "\n",
    "k_vals <- tibble(neighbors = seq(from = 1, to = 50))\n",
    "\n",
    "knn_results <- workflow() |>\n",
    "    add_recipe(heart_recipe) |>\n",
    "    add_model(knn_spec) |>\n",
    "    tune_grid(resample = heart_vfold, grid = k_vals) |>\n",
    "    collect_metrics()\n",
    "\n",
    "accuracies <- knn_results |>\n",
    "    filter(.metric == \"accuracy\")\n",
    "\n",
    "\n",
    "\n",
    "accuracy_vs_k <- ggplot(accuracies, aes(x = neighbors, y = mean)) +\n",
    "  geom_point() +\n",
    "  geom_line() +\n",
    "  labs(x = \"Neighbors\", y = \"Accuracy Estimate\", caption = \"Table 4\") +\n",
    "  theme(text = element_text(size = 12))\n",
    "\n",
    "accuracy_vs_k\n"
   ]
  },
  {
   "cell_type": "markdown",
   "id": "3312f7e3-1f94-473d-8e1e-1f2a89db21bf",
   "metadata": {},
   "source": [
    "We have assigned the k value with maximum accuracy to max_k whcih is 19"
   ]
  },
  {
   "cell_type": "code",
   "execution_count": null,
   "id": "a40344f5-fd74-4d01-a26e-2c3e048f8b41",
   "metadata": {
    "vscode": {
     "languageId": "r"
    }
   },
   "outputs": [],
   "source": [
    "best_k <- accuracies |>\n",
    "    arrange(desc(mean)) |>\n",
    "    head(1) |>\n",
    "     pull(neighbors)\n",
    "best_k"
   ]
  },
  {
   "cell_type": "markdown",
   "id": "6021cf43-9744-4039-8555-8c53e7650b95",
   "metadata": {},
   "source": [
    "As seen in the graph that has been plotted above, it is visible that K = 19 provides the highest cross-validation accuracy estimate which is around 70%. However, the accucaracy for 20 is near the value. This time I will choose 19 for the best k value to train the data."
   ]
  },
  {
   "cell_type": "markdown",
   "id": "32b478ea-ccfe-4b59-b8bc-9b96bc7a4d2b",
   "metadata": {},
   "source": [
    "## Testing the data\n",
    "Now, using the k value that we have chosen, with the tuned k-nn classifier I will evaluate the quality of the classifier. "
   ]
  },
  {
   "cell_type": "code",
   "execution_count": null,
   "id": "82be069e-e1f3-4d5c-b373-bc7af51a8d06",
   "metadata": {
    "vscode": {
     "languageId": "r"
    }
   },
   "outputs": [],
   "source": [
    "knn_spec <- nearest_neighbor(weight_func = \"rectangular\", neighbors = best_k) |>\n",
    "  set_engine(\"kknn\") |>\n",
    "  set_mode(\"classification\")\n",
    "\n",
    "knn_fit <- workflow() |>\n",
    "  add_recipe(heart_recipe) |>\n",
    "  add_model(knn_spec) |>\n",
    "  fit(data = heart_disease_train)\n",
    "\n",
    "knn_fit"
   ]
  },
  {
   "cell_type": "markdown",
   "id": "35160fec-038f-4cf7-a525-f2f4f23db7c1",
   "metadata": {},
   "source": [
    "Now accuracy and precision will be calculated to evaluate the code."
   ]
  },
  {
   "cell_type": "code",
   "execution_count": null,
   "id": "f10a0e57-581e-470c-92f9-c0977e70686c",
   "metadata": {
    "vscode": {
     "languageId": "r"
    }
   },
   "outputs": [],
   "source": [
    "heart_test_predictions <- predict(knn_fit, heart_disease_test) |>\n",
    "  bind_cols(heart_disease_test)\n",
    "\n",
    "heart_test_predictions\n",
    "\n"
   ]
  },
  {
   "cell_type": "markdown",
   "id": "2e7b7db7-6d1a-451d-afde-c3e1730b63f9",
   "metadata": {},
   "source": [
    "Table 6"
   ]
  },
  {
   "cell_type": "markdown",
   "id": "d8197e23-fa4c-4011-8481-9efaca7c7e63",
   "metadata": {},
   "source": [
    "### Prediction Plot Analysis\n",
    "This will be made to compare the prediction and the actual data visually\n",
    "\n",
    "\n"
   ]
  },
  {
   "cell_type": "code",
   "execution_count": null,
   "id": "ff377eee-912d-4aa3-9906-39bee0f313d5",
   "metadata": {
    "vscode": {
     "languageId": "r"
    }
   },
   "outputs": [],
   "source": [
    "options(repr.plot.height = 5, repr.plot.width = 10)\n",
    "\n",
    "hd_chol_prediction_plot <- ggplot (heart_test_predictions, aes (x = age, y = chol, color = .pred_class)) +\n",
    "                                geom_point(alpha = 0.5) +\n",
    "                                labs(x = \"Age\", y = \"Cholesterol (mg/dl)\", colour = \"Predictions\", title = \"Predictions Plot, Cholesterol\" , caption = \"Table 5\")\n",
    "hd_chol_truth_plot <- ggplot (heart_test_predictions, aes (x = age, y = chol, color = diagnosis)) +\n",
    "                                geom_point(alpha = 0.5) +\n",
    "                                labs(x = \"Age\", y = \"Cholesterol (mg/dl)\", colour = \"Truth\", title = \"Truth Plot, Cholesterol\", , caption = \"Table 6\")\n",
    "\n",
    "\n",
    "hd_rate_prediction_plot <- ggplot(heart_test_predictions, aes(x = age, y = thalach, color = .pred_class)) +\n",
    "                                geom_point(alpha = 0.5) +\n",
    "                                labs(x = \"Age\", y = \"Max Heart Rate (bpm)\", color = \"Predictions\", title = \"Predictions Plot, Max Heart Rate\", , caption = \"Table 7\")\n",
    "hd_rate_truth_plot <- ggplot(heart_test_predictions, aes(x = age, y = thalach, color = diagnosis)) +\n",
    "                                geom_point(alpha = 0.5) +\n",
    "                                labs(x = \"Age\", y = \"Max Heart Rate (bpm)\", color = \"Truth\", title = \"Truth Plot, Max Heart Rate\", , caption = \"Table 8\")\n",
    "\n",
    "\n",
    "hd_trestbps_prediction_plot <- ggplot(heart_test_predictions, aes (x = age, y = tresbps, color = .pred_class)) +\n",
    "                                geom_point(alpha = 0.5) +\n",
    "                                labs(x = \"Age\", y = \"Resting Blood Pressure (mm/hg)\", color = \"Predictions\", title = \"Predictions Plot, Blood Pressure\",  caption = \"Table 9\")\n",
    "hd_trestbps_truth_plot <- ggplot(heart_test_predictions, aes (x = age, y = tresbps, color = diagnosis)) +\n",
    "                                geom_point(alpha = 0.5) +\n",
    "                                labs(x = \"Age\", y = \"Resting Blood Pressure (mm/hg)\", color = \"Truth\", title = \"Truth Plot, Blood Pressure\", caption = \"Table 10\")\n",
    "\n",
    "hd_chol_prediction_plot + hd_chol_truth_plot \n",
    "hd_rate_prediction_plot + hd_rate_truth_plot\n",
    "hd_trestbps_prediction_plot + hd_trestbps_truth_plot\n",
    "\n",
    "\n"
   ]
  },
  {
   "cell_type": "markdown",
   "id": "1a83c597-3f0f-4763-970b-ebf9e792f6c0",
   "metadata": {},
   "source": [
    "### Analysis\n",
    "These graphs show the actual value for age vs. Cholesterol, Heart Rate, and Blood Pressure and the prediction value. The only difference between these two variables is the color of the plots, with one showing how the actual test data's trend for heart disease diagnosis looks versus the color of the prediction. It is visible to see whether the prediction was right or wrong. For example, when looking at the graph for maximum heart rate, the prediction graph shows that the heart rate value is separated distinctively. However, looking at the truth plot, it is shown that the dots are mixed and that the quantity of heart rate does not really show if they have heart disease or not. This is a good visualization tool to see where the prediction got wrong. "
   ]
  },
  {
   "cell_type": "markdown",
   "id": "d7388a9b-b73f-4f52-8296-ffee8cdaa6cf",
   "metadata": {},
   "source": [
    "# Evaluation\n",
    "Now we will evaluate the code that we have here to see how good the model is by calculating the accuracy"
   ]
  },
  {
   "cell_type": "code",
   "execution_count": null,
   "id": "1e27251c-eaca-4aee-84ac-f325a13dcd42",
   "metadata": {
    "vscode": {
     "languageId": "r"
    }
   },
   "outputs": [],
   "source": [
    "heart_test_predictions |>\n",
    "  metrics(truth = diagnosis, estimate = .pred_class) |>\n",
    "  filter(.metric == \"accuracy\")\n",
    "\n",
    "heart_test_predictions |> pull(diagnosis) |> levels()\n",
    "\n",
    "heart_test_predictions|>\n",
    "     precision(truth = diagnosis, estimate = .pred_class, event_level=\"second\")"
   ]
  },
  {
   "cell_type": "markdown",
   "id": "81d28d7a-7866-4f19-8d7e-7753dbf7dbc2",
   "metadata": {},
   "source": [
    "Table6, Table 7"
   ]
  },
  {
   "cell_type": "markdown",
   "id": "7bd31c74-ae80-4351-8495-bac02fb125c3",
   "metadata": {},
   "source": [
    "## Confusion Matrix"
   ]
  },
  {
   "cell_type": "code",
   "execution_count": null,
   "id": "27169168-db94-4c1e-bfb9-d92025f6e795",
   "metadata": {
    "vscode": {
     "languageId": "r"
    }
   },
   "outputs": [],
   "source": [
    "\n",
    "heart_test_predictions |>\n",
    "             conf_mat(truth = diagnosis, estimate = .pred_class)"
   ]
  },
  {
   "cell_type": "markdown",
   "id": "6767cc92-6e6d-4606-9869-89f3037544dd",
   "metadata": {},
   "source": [
    "## Analysis of Confusion Matrix (Accuracy, Precision and Recall)\n",
    "\n",
    "Accuracy could be calculated from the confusion matrix, as the formula is\n",
    "Accuracy = Number of Correct Predictions / Total Number of Predictions\n",
    "0.645 = 49 / 76\n",
    "\n",
    "The accuracy I got from this is 65%, meaning that 35% of the time, some patients are misdiagnosed. The accuracy is moderate, as it would be a measure for some hospitals to use for the initial diagnosis of heart disease. However, this is not high enough to decide whether the patient has heart disease. Finding a way to improve this model (Additional Parameters) is necessary. This is not a complete model to see who has heart disease or not, as people's lives are dependent on it. \n",
    "\n",
    "Precision\n",
    "Precision = Number of Correct Positive / Number of True Positive + False Positive.  (In this case, POSITIVE Prediction means that a person is diagnosed with heart disease)\n",
    "0.66 = 16 / 24\n",
    "\n",
    "The Precision shows how many of the positive predictions the classifier made were actually positive. The precision we have is approximately 66% meaning that 34% of the times the person do not have a heart disease. \n",
    "\n",
    "Recall \n",
    "Recall = Number of True Positive/ Number of True Positive + False Negative\n",
    "0.45 = 16 / 35\n",
    "\n",
    "The recall of the model is 42%, which is an awful number as the model cannot predict well. This shows that 58% with heart disease is not predicted as a heart disease. This is the worst case to have a false negative because we would leave people with heart disease without any treatment, which could lead to exacerbation.\n",
    "\n"
   ]
  },
  {
   "cell_type": "markdown",
   "id": "37dc6a3b-5665-479b-aa97-934f7bc88eb3",
   "metadata": {},
   "source": [
    "# Discussion\n",
    "\n",
    "#### Summarize what you found\n",
    "The model's accuracy is 64.47%, meaning it correctly predicts heart disease in about 64.47% of cases.\n",
    "The precision is 67%, indicating that when the model predicts heart disease, it is correct 66.7% of the time.\n",
    "The recall is 45%, showing that the model only identifies 45% of actual heart disease cases as not being good enough for a heart disease model. \n",
    "The scatter plots visualize the relationship between age and various health metrics (cholesterol, maximum heart rate, and resting blood pressure). From this, we found out the level of pressure does not heavily affect the presence of heart disease, as shown in the scatter plot. It shows how people with lower pressure has heart disease in the similar amount to the ones with hight resting blood pressure. It also showed a weak correlation between Resting Blood Pressure and age and the points spread apart. \n",
    "\n",
    "\n",
    "#### Discuss whether this is what you expected to find.\n",
    "\n",
    "The incidence of heart disease was expected to increase with age. The scatter plot shows that the older the person, the higher the incidence of heart disease. This was what we expected to find. However, the model created could not predict this. Although age positively correlated with resting blood pressure and cholesterol levels, this did not affect the presence of heart disease, and the model could not distinguish individuals' presence of heart disease. It was unexpected that the resting Blood pressure did not give us useful information to distinguish whether a person has a heart disease. \n",
    "\n",
    "Regarding the model's accuracy, we expected an accuracy of approximately 70%. The actual KNN model fell short at 65%. However, it is close to what we expected, as the variables that were chosen were easily accessible variables. We expected that these variables were not enough to make the model good enough to predict the presence of heart disease. This was close to our hypothesis, and it matched it to some degree. However, the recall of the model was around 42%. This is not what I expected here. This means that there are many false negatives, which are too low for the model to be good. This is an unexpected value. This indicates the model has to be improved. \n",
    "\n",
    "\n",
    "#### Discuss what impact such findings could have.\n",
    "The theme of the research is to see if easily accessible parameters can form a good model with high prediction accuracy. The goal is to see if people in different regions who do not have access to high-quality parameters can predict the presence of heart disease. From this point of view, we found out that it is impossible to do this as the recall was about 42%, meaning that there were a lot of false negative predictions when this model was used.\n",
    "This is not a good thing at all. We found this is not possible through age, blood pressure, cholesterol level, and maximum heart rate. This is a good step to show that this parameter on its own would not be able to form a good model, as we found out that resting blood pressure is not a good parameter for heart disease prediction. From the findings that we made, we would be able to move on to see if other easily accessible data, such as sex and others, would be able to contribute to making a better prediction model. Moreover, we learned that the model itself has a high amount of false negatives. This leads to the next question of why this is the case. However, it also showed what machine learning is capable of. However, it has an accuracy of 65%. It could be used for some regions because it is better than nothing. It could lead to early detection and prediction of the disease. \n",
    "\n",
    "\n",
    "#### Discuss what future questions this could lead to.\n",
    "\n",
    "What other parameter would enhance the accuracy of the model?\n",
    "Would the model change if the data is not limited to Cleveland?\n",
    "\n",
    "\n",
    "#### Answering the Predictive question\n",
    "the variables did not help to create a good predictive classifier"
   ]
  },
  {
   "cell_type": "markdown",
   "id": "adc66b6f-6e98-4741-9851-e3f462cf2613",
   "metadata": {},
   "source": [
    "## Significance"
   ]
  },
  {
   "cell_type": "markdown",
   "id": "113bfeef-1b46-4659-94a5-d3d0ef0fb9db",
   "metadata": {},
   "source": [
    "\n",
    "These variables could be collected very easily in most regions, and it would be great if this basic information could be used to predict heart diseases. This would be a great thing for us to do. The information that had been created could then be applied to people worldwide, even though this information is limited to Cleveland. If this is true people around the world could be helped. If not so, it will be important for researchers to see what easy accessible data would be a good factor to predict heart disease.\n",
    "\n",
    "## Further Question\n",
    "What factor do we need to improve the accuracy of the model that is relatively accessible for most region and countries. \n"
   ]
  },
  {
   "cell_type": "markdown",
   "id": "807ed07b-c761-4a6e-a5b2-d08b59b12cc3",
   "metadata": {},
   "source": [
    "# Work Cited\n",
    "“Heart Health and Aging.” National Institute on Aging, U.S. Department of Health and Human Services, 1 June 2018, www.nia.nih.gov/health/heart-health/heart-health-and-aging#:~:text=People%20age%2065%20and%20older,heart%20disease.<br>\n",
    "Franklin, S. S., Larson, M. G., Khan, S. A., Wong, N. D., Leip, E. P., Kannel, W. B., & Levy, D. (2001). Does the relation of blood pressure to coronary heart disease risk change with aging? Circulation, 103(9), 1245–1249. https://doi.org/10.1161/01.cir.103.9.1245\n",
    "\n"
   ]
  },
  {
   "cell_type": "code",
   "execution_count": null,
   "id": "e73264b4-f8ba-42c5-b0bf-cb09d2b47d36",
   "metadata": {
    "vscode": {
     "languageId": "r"
    }
   },
   "outputs": [],
   "source": []
  },
  {
   "cell_type": "code",
   "execution_count": null,
   "id": "6752d7a4-d6df-4d10-9edc-2751cfc65ad8",
   "metadata": {
    "vscode": {
     "languageId": "r"
    }
   },
   "outputs": [],
   "source": []
  },
  {
   "cell_type": "code",
   "execution_count": null,
   "id": "92c4dd98-ea10-4813-b28d-f24243a97c07",
   "metadata": {
    "vscode": {
     "languageId": "r"
    }
   },
   "outputs": [],
   "source": []
  },
  {
   "cell_type": "code",
   "execution_count": null,
   "id": "45467ab4-f4f1-4f61-85c3-fb4c8b76d85a",
   "metadata": {
    "vscode": {
     "languageId": "r"
    }
   },
   "outputs": [],
   "source": []
  }
 ],
 "metadata": {
  "kernelspec": {
   "display_name": "R",
   "language": "R",
   "name": "ir"
  },
  "language_info": {
   "codemirror_mode": "r",
   "file_extension": ".r",
   "mimetype": "text/x-r-source",
   "name": "R",
   "pygments_lexer": "r",
   "version": "4.3.1"
  }
 },
 "nbformat": 4,
 "nbformat_minor": 5
}
